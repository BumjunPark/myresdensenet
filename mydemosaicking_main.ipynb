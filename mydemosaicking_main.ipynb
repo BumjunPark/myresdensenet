{
 "cells": [
  {
   "cell_type": "code",
   "execution_count": null,
   "metadata": {},
   "outputs": [],
   "source": [
    "import mydemosaicking_header as mh\n",
    "from mydensenet import DenseNet \n",
    "\n",
    "#read data\n",
    "train_gt_path = 'E:/data/DIV2K/DIV2K_train_patch/train/gt/'\n",
    "train_train_path = 'E:/data/DIV2K/DIV2K_train_patch/train/train/'\n",
    "valid_gt_path = 'E:/data/DIV2K/DIV2K_train_patch/valid/gt/'\n",
    "valid_valid_path = 'E:/data/DIV2K/DIV2K_train_patch/valid/valid/'\n",
    "train_gt_patch = []\n",
    "train_train_patch = []\n",
    "valid_gt_img = []\n",
    "valid_valid_img = []\n",
    "rgb = ['r','g','b']\n",
    "\n",
    "for i in rgb:\n",
    "    gt_patch = '_gt_patch_all.h5'\n",
    "    train_patch = '_train_patch_all.h5'\n",
    "    gt_filename = i+gt_patch\n",
    "    train_filename = i+train_patch\n",
    "    temp = mh.load_h5(train_gt_path, gt_filename, 1)\n",
    "    train_gt_patch.append(temp)\n",
    "    temp = mh.load_h5(train_train_path, train_filename, 1)\n",
    "    train_train_patch.append(temp)\n",
    "    for j in range(1,101):\n",
    "        valid_img = '_valid_img_'\n",
    "        gt_img = '_gt_img_'\n",
    "        h5 = '.h5'\n",
    "        valid_filename = str(j) + valid_img + i + h5\n",
    "        gt_filename = str(j) + gt_img + i + h5\n",
    "        temp = mh.load_h5(valid_valid_path, valid_filename, j)\n",
    "        valid_valid_img.append(temp)\n",
    "        temp = mh.load_h5(valid_gt_path, gt_filename, j)\n",
    "        valid_gt_img.append(temp)"
   ]
  },
  {
   "cell_type": "code",
   "execution_count": null,
   "metadata": {},
   "outputs": [],
   "source": [
    "BATCH_SIZE = 64\n",
    "EPOCHS = 100\n",
    "\n",
    "model = DenseNet(nb_dense_block=4, growth_rate=32, nb_filter=64, reduction=0.0, dropout_rate=0.0, weights_path=None)\n",
    "\n",
    "adam = mh.Adam(lr=0.0001)\n",
    "model.compile(adam, loss='mse', metrics=[mh.PSNR, \"accuracy\"])\n",
    "model.summary()"
   ]
  },
  {
   "cell_type": "code",
   "execution_count": null,
   "metadata": {},
   "outputs": [],
   "source": [
    "r_filepath=\"./checkpoints/red/weights-improvement-{epoch:02d}-{PSNR:.2f}.hdf5\"\n",
    "r_checkpoint = mh.ModelCheckpoint(r_filepath, monitor=mh.PSNR, verbose=1, mode='max')\n",
    "r_callbacks_list = [r_checkpoint]\n",
    "\n",
    "g_filepath=\"./checkpoints/green/weights-improvement-{epoch:02d}-{PSNR:.2f}.hdf5\"\n",
    "g_checkpoint = mh.ModelCheckpoint(g_filepath, monitor=mh.PSNR, verbose=1, mode='max')\n",
    "g_callbacks_list = [g_checkpoint]\n",
    "\n",
    "b_filepath=\"./checkpoints/blue/weights-improvement-{epoch:02d}-{PSNR:.2f}.hdf5\"\n",
    "b_checkpoint = mh.ModelCheckpoint(b_filepath, monitor=mh.PSNR, verbose=1, mode='max')\n",
    "b_callbacks_list = [b_checkpoint]\n",
    "\n",
    "model.fit_generator(mh.train_image_gen(train_train_patch, train_gt_patch, 0, BATCH_SIZE), steps_per_epoch=522939 // BATCH_SIZE,  \\\n",
    "\t\t\t\t\tvalidation_data=mh.valid_image_gen(valid_valid_img, valid_gt_img, 100), validation_steps=100, \\\n",
    "\t\t\t\t\tepochs=EPOCHS, workers=8, callbacks=r_callbacks_list)\n",
    "\n",
    "#model.fit_generator(image_gen(g_train_list, TRAIN_BATCH_SIZE), steps_per_epoch=len(g_train_list) // TRAIN_BATCH_SIZE,  \\\n",
    "#\t\t\t\t\tvalidation_data=image_gen(g_test_list, TEST_BATCH_SIZE), validation_steps=len(g_test_list) // TEST_BATCH_SIZE, \\\n",
    "#\t\t\t\t\tepochs=EPOCHS, workers=8, callbacks=g_callbacks_list)\n",
    "\n",
    "#model.fit_generator(image_gen(b_train_list, TRAIN_BATCH_SIZE), steps_per_epoch=len(b_train_list) // TRAIN_BATCH_SIZE,  \\\n",
    "#\t\t\t\t\tvalidation_data=image_gen(b_test_list, TEST_BATCH_SIZE), validation_steps=len(b_test_list) // TEST_BATCH_SIZE, \\\n",
    "#\t\t\t\t\tepochs=EPOCHS, workers=8, callbacks=b_callbacks_list)\n",
    "\n",
    "print(\"Done training!!!\")\n",
    "\n",
    "print(\"Saving the final model ...\")\n",
    "\n",
    "#model.save('vdsr_model.h5')  # creates a HDF5 file \n",
    "del model  # deletes the existing model"
   ]
  },
  {
   "cell_type": "code",
   "execution_count": null,
   "metadata": {
    "collapsed": true
   },
   "outputs": [],
   "source": []
  }
 ],
 "metadata": {
  "kernelspec": {
   "display_name": "Python 3",
   "language": "python",
   "name": "python3"
  },
  "language_info": {
   "codemirror_mode": {
    "name": "ipython",
    "version": 3
   },
   "file_extension": ".py",
   "mimetype": "text/x-python",
   "name": "python",
   "nbconvert_exporter": "python",
   "pygments_lexer": "ipython3",
   "version": "3.5.3"
  }
 },
 "nbformat": 4,
 "nbformat_minor": 2
}
