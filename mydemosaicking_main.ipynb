{
 "cells": [
  {
   "cell_type": "code",
   "execution_count": 1,
   "metadata": {},
   "outputs": [
    {
     "name": "stderr",
     "output_type": "stream",
     "text": [
      "Using TensorFlow backend.\n"
     ]
    }
   ],
   "source": [
    "import mydemosaicking_header as mh\n",
    "\n",
    "#read data\n",
    "train_gt_path = 'E:/data/DIV2K/DIV2K_train_patch/train/gt/'\n",
    "train_train_path = 'E:/data/DIV2K/DIV2K_train_patch/train/train/'\n",
    "valid_gt_path = 'E:/data/DIV2K/DIV2K_train_patch/valid/gt/'\n",
    "valid_valid_path = 'E:/data/DIV2K/DIV2K_train_patch/valid/valid/'\n",
    "train_gt_patch = []\n",
    "train_train_patch = []\n",
    "valid_gt_img = []\n",
    "valid_valid_img = []\n",
    "rgb = ['r','g','b']\n",
    "\n",
    "for i in rgb:\n",
    "    gt_patch = '_gt_patch_all.h5'\n",
    "    train_patch = '_train_patch_all.h5'\n",
    "    gt_filename = i+gt_patch\n",
    "    train_filename = i+train_patch\n",
    "    temp = mh.load_h5(train_gt_path, gt_filename, 1)\n",
    "    train_gt_patch.append(temp)\n",
    "    temp = mh.load_h5(train_train_path, train_filename, 1)\n",
    "    train_train_patch.append(temp)\n",
    "    for j in range(1,101):\n",
    "        valid_img = '_valid_img_'\n",
    "        gt_img = '_gt_img_'\n",
    "        h5 = '.h5'\n",
    "        valid_filename = str(j) + valid_img + i + h5\n",
    "        gt_filename = str(j) + gt_img + i + h5\n",
    "        temp = mh.load_h5(valid_valid_path, valid_filename, j)\n",
    "        valid_valid_img.append(temp)\n",
    "        temp = mh.load_h5(valid_gt_path, gt_filename, j)\n",
    "        valid_gt_img.append(temp)"
   ]
  },
  {
   "cell_type": "code",
   "execution_count": null,
   "metadata": {
    "collapsed": true
   },
   "outputs": [],
   "source": []
  }
 ],
 "metadata": {
  "kernelspec": {
   "display_name": "Python 3",
   "language": "python",
   "name": "python3"
  },
  "language_info": {
   "codemirror_mode": {
    "name": "ipython",
    "version": 3
   },
   "file_extension": ".py",
   "mimetype": "text/x-python",
   "name": "python",
   "nbconvert_exporter": "python",
   "pygments_lexer": "ipython3",
   "version": "3.5.3"
  }
 },
 "nbformat": 4,
 "nbformat_minor": 2
}
